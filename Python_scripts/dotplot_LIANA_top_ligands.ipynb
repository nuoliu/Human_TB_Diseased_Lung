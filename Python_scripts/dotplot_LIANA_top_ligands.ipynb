{
 "cells": [
  {
   "cell_type": "code",
   "execution_count": 1,
   "id": "eabc07a1-31ad-4ffc-9dc6-d7da37be82c8",
   "metadata": {},
   "outputs": [],
   "source": [
    "import pandas as pd\n",
    "import matplotlib.pyplot as plt\n",
    "import seaborn as sns\n",
    "from itertools import product"
   ]
  },
  {
   "cell_type": "code",
   "execution_count": 2,
   "id": "5580158b-dea6-4da2-91e5-6fc798df6787",
   "metadata": {},
   "outputs": [],
   "source": [
    "sns.set(font_scale=2.8)"
   ]
  },
  {
   "cell_type": "code",
   "execution_count": 3,
   "id": "3f417003-c134-4d47-8dae-13905fc7a27a",
   "metadata": {},
   "outputs": [
    {
     "data": {
      "text/html": [
       "<div>\n",
       "<style scoped>\n",
       "    .dataframe tbody tr th:only-of-type {\n",
       "        vertical-align: middle;\n",
       "    }\n",
       "\n",
       "    .dataframe tbody tr th {\n",
       "        vertical-align: top;\n",
       "    }\n",
       "\n",
       "    .dataframe thead th {\n",
       "        text-align: right;\n",
       "    }\n",
       "</style>\n",
       "<table border=\"1\" class=\"dataframe\">\n",
       "  <thead>\n",
       "    <tr style=\"text-align: right;\">\n",
       "      <th></th>\n",
       "      <th>source</th>\n",
       "      <th>target</th>\n",
       "      <th>ligand.complex</th>\n",
       "      <th>mean_TB_edge</th>\n",
       "      <th>mean_CTR_edge</th>\n",
       "      <th>count_FC</th>\n",
       "    </tr>\n",
       "  </thead>\n",
       "  <tbody>\n",
       "    <tr>\n",
       "      <th>1</th>\n",
       "      <td>Fibroblast|MMP1,CXCL5</td>\n",
       "      <td>Alveolar_Macrophages</td>\n",
       "      <td>COL6A5</td>\n",
       "      <td>0.057098</td>\n",
       "      <td>0</td>\n",
       "      <td>1</td>\n",
       "    </tr>\n",
       "    <tr>\n",
       "      <th>2</th>\n",
       "      <td>Fibroblast|MMP1,CXCL5</td>\n",
       "      <td>AT1</td>\n",
       "      <td>COL6A5</td>\n",
       "      <td>0.150973</td>\n",
       "      <td>0</td>\n",
       "      <td>3</td>\n",
       "    </tr>\n",
       "    <tr>\n",
       "      <th>3</th>\n",
       "      <td>Fibroblast|MMP1,CXCL5</td>\n",
       "      <td>AT2</td>\n",
       "      <td>COL6A5</td>\n",
       "      <td>0.120904</td>\n",
       "      <td>0</td>\n",
       "      <td>1</td>\n",
       "    </tr>\n",
       "    <tr>\n",
       "      <th>4</th>\n",
       "      <td>Fibroblast|MMP1,CXCL5</td>\n",
       "      <td>CD16_Monocytes</td>\n",
       "      <td>COL6A5</td>\n",
       "      <td>0.045228</td>\n",
       "      <td>0</td>\n",
       "      <td>1</td>\n",
       "    </tr>\n",
       "    <tr>\n",
       "      <th>5</th>\n",
       "      <td>Fibroblast|MMP1,CXCL5</td>\n",
       "      <td>Club cells</td>\n",
       "      <td>COL6A5</td>\n",
       "      <td>0.160866</td>\n",
       "      <td>0</td>\n",
       "      <td>1</td>\n",
       "    </tr>\n",
       "  </tbody>\n",
       "</table>\n",
       "</div>"
      ],
      "text/plain": [
       "                  source                target ligand.complex  mean_TB_edge  \\\n",
       "1  Fibroblast|MMP1,CXCL5  Alveolar_Macrophages         COL6A5      0.057098   \n",
       "2  Fibroblast|MMP1,CXCL5                   AT1         COL6A5      0.150973   \n",
       "3  Fibroblast|MMP1,CXCL5                   AT2         COL6A5      0.120904   \n",
       "4  Fibroblast|MMP1,CXCL5        CD16_Monocytes         COL6A5      0.045228   \n",
       "5  Fibroblast|MMP1,CXCL5            Club cells         COL6A5      0.160866   \n",
       "\n",
       "   mean_CTR_edge  count_FC  \n",
       "1              0         1  \n",
       "2              0         3  \n",
       "3              0         1  \n",
       "4              0         1  \n",
       "5              0         1  "
      ]
     },
     "execution_count": 3,
     "metadata": {},
     "output_type": "execute_result"
    }
   ],
   "source": [
    "sig_sum = pd.read_csv('../new_man_tables/Fig4_mmp1_cxcl5_fib_signaling.csv', index_col=0) #mean over ligand and then target\n",
    "sig_sum.head()"
   ]
  },
  {
   "cell_type": "markdown",
   "id": "960b81ca-55c8-4c9d-9d40-39cba2a6f9aa",
   "metadata": {},
   "source": [
    "select the top 5 ligand over all targets"
   ]
  },
  {
   "cell_type": "code",
   "execution_count": 4,
   "id": "300c2106-92ab-43a1-840c-6e20a2a8f16b",
   "metadata": {},
   "outputs": [
    {
     "name": "stderr",
     "output_type": "stream",
     "text": [
      "/var/folders/zb/n6r7y_cx349fd9bg4gvsb0340000gq/T/ipykernel_1263/2130299912.py:1: FutureWarning: The default value of numeric_only in DataFrameGroupBy.mean is deprecated. In a future version, numeric_only will default to False. Either specify numeric_only or select only columns which should be valid for the function.\n",
      "  ligands2plot=sig_sum.groupby('ligand.complex').mean().sort_values('mean_TB_edge',ascending=False)[:5].index\n"
     ]
    },
    {
     "data": {
      "text/plain": [
       "Index(['CXCL13', 'NTN1', 'GREM1', 'DSG2', 'CXCL6'], dtype='object', name='ligand.complex')"
      ]
     },
     "execution_count": 4,
     "metadata": {},
     "output_type": "execute_result"
    }
   ],
   "source": [
    "ligands2plot=sig_sum.groupby('ligand.complex').mean().sort_values('mean_TB_edge',ascending=False)[:5].index\n",
    "ligands2plot"
   ]
  },
  {
   "cell_type": "code",
   "execution_count": 5,
   "id": "36d85f0e-d806-4b4f-96d2-0060a458c49d",
   "metadata": {},
   "outputs": [
    {
     "data": {
      "text/html": [
       "<div>\n",
       "<style scoped>\n",
       "    .dataframe tbody tr th:only-of-type {\n",
       "        vertical-align: middle;\n",
       "    }\n",
       "\n",
       "    .dataframe tbody tr th {\n",
       "        vertical-align: top;\n",
       "    }\n",
       "\n",
       "    .dataframe thead th {\n",
       "        text-align: right;\n",
       "    }\n",
       "</style>\n",
       "<table border=\"1\" class=\"dataframe\">\n",
       "  <thead>\n",
       "    <tr style=\"text-align: right;\">\n",
       "      <th></th>\n",
       "      <th>source</th>\n",
       "      <th>target</th>\n",
       "      <th>ligand.complex</th>\n",
       "      <th>receptor.complex</th>\n",
       "      <th>edge_weight_TB</th>\n",
       "      <th>edge_weight_CTR</th>\n",
       "      <th>edge_FC</th>\n",
       "    </tr>\n",
       "  </thead>\n",
       "  <tbody>\n",
       "    <tr>\n",
       "      <th>1</th>\n",
       "      <td>Fibroblast|MMP1,CXCL5</td>\n",
       "      <td>Alveolar_Macrophages</td>\n",
       "      <td>COL6A5</td>\n",
       "      <td>ITGAV_ITGB8</td>\n",
       "      <td>0.057098</td>\n",
       "      <td>0</td>\n",
       "      <td>4.22336</td>\n",
       "    </tr>\n",
       "    <tr>\n",
       "      <th>2</th>\n",
       "      <td>Fibroblast|MMP1,CXCL5</td>\n",
       "      <td>Alveolar_Macrophages</td>\n",
       "      <td>MMP13</td>\n",
       "      <td>LRP1</td>\n",
       "      <td>0.072512</td>\n",
       "      <td>0</td>\n",
       "      <td>4.22336</td>\n",
       "    </tr>\n",
       "    <tr>\n",
       "      <th>3</th>\n",
       "      <td>Fibroblast|MMP1,CXCL5</td>\n",
       "      <td>AT1</td>\n",
       "      <td>COL6A5</td>\n",
       "      <td>ITGA2_ITGB1</td>\n",
       "      <td>0.059795</td>\n",
       "      <td>0</td>\n",
       "      <td>4.22336</td>\n",
       "    </tr>\n",
       "    <tr>\n",
       "      <th>4</th>\n",
       "      <td>Fibroblast|MMP1,CXCL5</td>\n",
       "      <td>AT1</td>\n",
       "      <td>COL6A5</td>\n",
       "      <td>ITGA3_ITGB1</td>\n",
       "      <td>0.068948</td>\n",
       "      <td>0</td>\n",
       "      <td>4.22336</td>\n",
       "    </tr>\n",
       "    <tr>\n",
       "      <th>5</th>\n",
       "      <td>Fibroblast|MMP1,CXCL5</td>\n",
       "      <td>AT1</td>\n",
       "      <td>COL6A5</td>\n",
       "      <td>SDC1</td>\n",
       "      <td>0.324177</td>\n",
       "      <td>0</td>\n",
       "      <td>4.22336</td>\n",
       "    </tr>\n",
       "  </tbody>\n",
       "</table>\n",
       "</div>"
      ],
      "text/plain": [
       "                  source                target ligand.complex  \\\n",
       "1  Fibroblast|MMP1,CXCL5  Alveolar_Macrophages         COL6A5   \n",
       "2  Fibroblast|MMP1,CXCL5  Alveolar_Macrophages          MMP13   \n",
       "3  Fibroblast|MMP1,CXCL5                   AT1         COL6A5   \n",
       "4  Fibroblast|MMP1,CXCL5                   AT1         COL6A5   \n",
       "5  Fibroblast|MMP1,CXCL5                   AT1         COL6A5   \n",
       "\n",
       "  receptor.complex  edge_weight_TB  edge_weight_CTR  edge_FC  \n",
       "1      ITGAV_ITGB8        0.057098                0  4.22336  \n",
       "2             LRP1        0.072512                0  4.22336  \n",
       "3      ITGA2_ITGB1        0.059795                0  4.22336  \n",
       "4      ITGA3_ITGB1        0.068948                0  4.22336  \n",
       "5             SDC1        0.324177                0  4.22336  "
      ]
     },
     "execution_count": 5,
     "metadata": {},
     "output_type": "execute_result"
    }
   ],
   "source": [
    "sig_nosum = pd.read_csv('../new_man_tables/Fig4_mmp1_cxcl5_fib_signaling_unsummarized.csv', index_col=0)\n",
    "sig_nosum.head()"
   ]
  },
  {
   "cell_type": "code",
   "execution_count": 6,
   "id": "120e4edd-6b79-4499-a546-80541271c028",
   "metadata": {},
   "outputs": [
    {
     "name": "stderr",
     "output_type": "stream",
     "text": [
      "/var/folders/zb/n6r7y_cx349fd9bg4gvsb0340000gq/T/ipykernel_1263/2301529868.py:2: SettingWithCopyWarning: \n",
      "A value is trying to be set on a copy of a slice from a DataFrame.\n",
      "Try using .loc[row_indexer,col_indexer] = value instead\n",
      "\n",
      "See the caveats in the documentation: https://pandas.pydata.org/pandas-docs/stable/user_guide/indexing.html#returning-a-view-versus-a-copy\n",
      "  tmp['barcode']=tmp.index\n"
     ]
    }
   ],
   "source": [
    "tmp=sig_nosum[['target', 'ligand.complex', 'receptor.complex', 'edge_weight_TB']]\n",
    "tmp['barcode']=tmp.index\n",
    "table = pd.pivot_table(tmp,index='barcode', values='edge_weight_TB', \n",
    "                       columns=['ligand.complex'])"
   ]
  },
  {
   "cell_type": "code",
   "execution_count": 8,
   "id": "2ecb95d0-9110-4339-ba26-ac8e3df5cb3e",
   "metadata": {},
   "outputs": [
    {
     "name": "stderr",
     "output_type": "stream",
     "text": [
      "/Users/nl646/miniconda3/envs/sc_1_9_env/lib/python3.10/site-packages/anndata/_core/aligned_df.py:67: ImplicitModificationWarning: Transforming to str index.\n",
      "  warnings.warn(\"Transforming to str index.\", ImplicitModificationWarning)\n"
     ]
    }
   ],
   "source": [
    "import anndata as ad\n",
    "adata=ad.AnnData(table.fillna(0))"
   ]
  },
  {
   "cell_type": "code",
   "execution_count": 10,
   "id": "f502269b-87bf-4e91-a995-e2889bd8b7b4",
   "metadata": {},
   "outputs": [
    {
     "name": "stderr",
     "output_type": "stream",
     "text": [
      "/Users/nl646/miniconda3/envs/sc_1_9_env/lib/python3.10/site-packages/anndata/_core/anndata.py:767: UserWarning: \n",
      "AnnData expects .obs.index to contain strings, but got values like:\n",
      "    [1, 2, 3, 4, 5]\n",
      "\n",
      "    Inferred to be: integer\n",
      "\n",
      "  value_idx = self._prep_dim_index(value.index, attr)\n"
     ]
    }
   ],
   "source": [
    "adata.obs=tmp[['barcode', 'target', 'receptor.complex']].set_index('barcode')"
   ]
  },
  {
   "cell_type": "code",
   "execution_count": 13,
   "id": "edc75a1f-b040-43df-b202-0ae562f45498",
   "metadata": {},
   "outputs": [],
   "source": [
    "import scanpy as sc"
   ]
  },
  {
   "cell_type": "code",
   "execution_count": 23,
   "id": "b3d886c6-6921-4906-9b2d-90dbe525bbb7",
   "metadata": {},
   "outputs": [],
   "source": [
    "plt.rcParams['pdf.fonttype'] = 42\n",
    "plt.rcParams['ps.fonttype'] = 42"
   ]
  },
  {
   "cell_type": "code",
   "execution_count": 24,
   "id": "96eeecd7-c8f4-467f-b17f-5b334ac53c16",
   "metadata": {},
   "outputs": [
    {
     "name": "stderr",
     "output_type": "stream",
     "text": [
      "1 extra bytes in post.stringData array\n",
      "'created' timestamp seems very low; regarding as unix timestamp\n",
      "Zapf NOT subset; don't know how to subset; dropped\n",
      "feat NOT subset; don't know how to subset; dropped\n",
      "morx NOT subset; don't know how to subset; dropped\n"
     ]
    },
    {
     "data": {
      "image/png": "[encoded data removed]",
      "text/plain": [
       "<Figure size 500x400 with 2 Axes>"
      ]
     },
     "metadata": {},
     "output_type": "display_data"
    }
   ],
   "source": [
    "# plt.style.use('default')  # Use the default style\n",
    "plt.rcParams.update({\n",
    "    'axes.facecolor': 'white',  # Set the background color to white\n",
    "    'axes.grid': False,         # Turn off the grid\n",
    "})\n",
    "\n",
    "plt.rc('font', family='Helvetica')\n",
    "\n",
    "df=sig_sum.loc[sig_sum['ligand.complex'].isin(ligands2plot)]\n",
    "# Define the colors based on 'edge_weight_TB' column\n",
    "colors = df['mean_TB_edge']\n",
    "\n",
    "# Define the sizes based on 'p_val' column (you can adjust the size scaling factor as needed)\n",
    "sizes = df['count_FC'] * 100\n",
    "\n",
    "# Create a scatter plot\n",
    "plt.figure(figsize=(5, 4))\n",
    "plt.scatter( df['ligand.complex'],df['target'], c=colors, s=sizes, cmap='viridis', edgecolor='k')\n",
    "plt.colorbar(label='Mean Edge Weight in TB')\n",
    "# Create a legend for sizes\n",
    "legend_labels = [1, 2,3]  # Adjust these labels as needed\n",
    "legend_handles = [plt.scatter([], [], s=size * 100,c='gray', edgecolor='k', label=str(size)) for size in legend_labels]\n",
    "plt.legend(handles=legend_handles, title='Number of unqiue interactions',bbox_to_anchor=(2.1, 0), loc='lower right')\n",
    "\n",
    "plt.xlabel('Target')\n",
    "plt.ylabel('Ligand Complex')\n",
    "plt.title('Top 5 ligands from Fibroblast|MMP1,CXCL5')\n",
    "plt.xticks(rotation=90)\n",
    "plt.savefig('../new_man_figs/Fig4/top5_ligand_mmp1_cxcl5_TB_edge_weight.pdf', bbox_inches='tight')\n",
    "# Show the plot\n",
    "plt.show()"
   ]
  },
  {
   "cell_type": "code",
   "execution_count": null,
   "id": "ff8e6f71-7bd5-4c69-bc0a-6a2163542474",
   "metadata": {},
   "outputs": [],
   "source": []
  }
 ],
 "metadata": {
  "kernelspec": {
   "display_name": "<Python (scanpy 1.9.1)>",
   "language": "python",
   "name": "sc_1_9_env"
  },
  "language_info": {
   "codemirror_mode": {
    "name": "ipython",
    "version": 3
   },
   "file_extension": ".py",
   "mimetype": "text/x-python",
   "name": "python",
   "nbconvert_exporter": "python",
   "pygments_lexer": "ipython3",
   "version": "3.10.14"
  }
 },
 "nbformat": 4,
 "nbformat_minor": 5
}
